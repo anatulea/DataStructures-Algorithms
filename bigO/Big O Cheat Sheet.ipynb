{
 "cells": [
  {
   "cell_type": "markdown",
   "metadata": {},
   "source": [
    "# -Big Os\n",
    "**O(1)** Constant- no loops\n",
    "\n",
    "**O(log N)** Logarithmic- usually searching algorithms have log n if they are sorted (Binary Search)\n",
    "\n",
    "**O(n)** Linear- for loops, while loops through n items\n",
    "\n",
    "**O(n log(n))** Log Liniear- usually sorting operations\n",
    "\n",
    "**O(n^2)** Quadratic- every element in a collection needs to be compared to ever other element. Two nested loops\n",
    "\n",
    "**O(2^n)** Exponential- recursive algorithms that solves a problem of size N\n",
    "\n",
    "**O(n!)** Factorial- you are adding a loop for every element\n",
    "\n",
    "**Iterating through half a collection is still O(n)\n",
    "Two separate collections: O(a * b)**\n",
    "\n",
    "## -What can cause time in a function?-\n",
    "\n",
    "Operations (+, -, *, /)\n",
    "\n",
    "Comparisons (<, >, ==)\n",
    "\n",
    "Looping (for, while)\n",
    "\n",
    "Outside Function call (function())\n",
    "\n",
    "\n",
    "## -Rule Book\n",
    "\n",
    "**Rule 1**: Always worst Case\n",
    "\n",
    "**Rule 2**: Remove Constants\n",
    "\n",
    "**Rule 3**: Different inputs should have different variables. O(a+b). A and B arrays nested would be O(a*b)\n",
    "\n",
    "+ for steps in order\n",
    "\n",
    "* for nested steps\n",
    "\n",
    "**Rule 4**: Drop Non-dominant terms\n",
    "\n",
    "##  -What causes Space complexity?-\n",
    "\n",
    "Variables\n",
    "Data Structures\n",
    "Function Call\n",
    "Allocations"
   ]
  },
  {
   "cell_type": "code",
   "execution_count": null,
   "metadata": {},
   "outputs": [],
   "source": []
  }
 ],
 "metadata": {
  "kernelspec": {
   "display_name": "Python 3",
   "language": "python",
   "name": "python3"
  },
  "language_info": {
   "codemirror_mode": {
    "name": "ipython",
    "version": 3
   },
   "file_extension": ".py",
   "mimetype": "text/x-python",
   "name": "python",
   "nbconvert_exporter": "python",
   "pygments_lexer": "ipython3",
   "version": "3.8.3"
  }
 },
 "nbformat": 4,
 "nbformat_minor": 4
}
