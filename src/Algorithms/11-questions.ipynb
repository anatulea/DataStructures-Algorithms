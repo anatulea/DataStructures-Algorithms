{
 "metadata": {
  "language_info": {
   "codemirror_mode": {
    "name": "ipython",
    "version": 3
   },
   "file_extension": ".py",
   "mimetype": "text/x-python",
   "name": "python",
   "nbconvert_exporter": "python",
   "pygments_lexer": "ipython3",
   "version": "3.8.3-final"
  },
  "orig_nbformat": 2,
  "kernelspec": {
   "name": "python_defaultSpec_1601000913736",
   "display_name": "Python 3.8.3 64-bit ('base': conda)"
  }
 },
 "nbformat": 4,
 "nbformat_minor": 2,
 "cells": [
  {
   "source": [
    "##1 - Sort 10 schools around your house by distance: Insertion Sort\n",
    "\n",
    "##2 - eBay sorts listings by the current Bid amount: radix or counting sort // MergeSort\n",
    "\n",
    "##3 - Sport scores on ESPN: QuickSort\n",
    "\n",
    "##4 - Massive database (can't fit all into memory) needs to sort through past year's user data: MergeSort\n",
    "\n",
    "##5 - Almost sorted Udemy review data needs to update and add 2 new reviews: Insertion Sort\n",
    "\n",
    "##6 - Temperature Records for the past 50 years in Canada: QuickSort\n",
    "\n",
    "##7 - Large user name database needs to be sorted. Data is very random.: QuickSort\n",
    "\n",
    "##8 - You want to teach sorting for the first time : BubbleSort"
   ],
   "cell_type": "code",
   "metadata": {},
   "execution_count": 4,
   "outputs": []
  }
 ]
}